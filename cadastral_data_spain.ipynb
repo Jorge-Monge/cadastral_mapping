{
 "cells": [
  {
   "cell_type": "markdown",
   "id": "fa8ccee3",
   "metadata": {},
   "source": [
    "# Mapping Cadastral Data with GeoPandas\n",
    "### Author: Jorge Monge\n",
    "### Date: 2021-May-11\n",
    "\n",
    "### Python script which uses GeoPandas to map cadastral data (http://www.catastro.minhap.es/) for province capitals in Spain\n",
    "\n",
    "### Please note the Terms Of Use of the data at http://www.catastro.minhap.es/webinspire/documentos/Licencia.pdf"
   ]
  },
  {
   "cell_type": "code",
   "execution_count": null,
   "id": "d00407d9",
   "metadata": {},
   "outputs": [],
   "source": [
    "import geopandas\n",
    "import matplotlib.pyplot as plt\n",
    "import contextily as ctx\n",
    "import requests\n",
    "from zipfile import ZipFile\n",
    "import os\n",
    "import feedparser\n",
    "import unicodedata"
   ]
  },
  {
   "cell_type": "markdown",
   "id": "b73aabb7",
   "metadata": {},
   "source": [
    "#### Defining constants"
   ]
  },
  {
   "cell_type": "code",
   "execution_count": null,
   "id": "39290f7f",
   "metadata": {},
   "outputs": [],
   "source": [
    "PROVINCE = \"Cádiz\"\n",
    "PROV_CAPITAL = \"Cádiz\"\n",
    "BUFFER_DIST = 10000\n",
    "CADASTRAL_DATA_FEED = \"http://www.catastro.minhap.es/INSPIRE/buildings/ES.SDGC.bu.atom.xml\""
   ]
  },
  {
   "cell_type": "markdown",
   "id": "f768edc6",
   "metadata": {},
   "source": [
    "#### Normalize string values (remove diacritic accent marks)"
   ]
  },
  {
   "cell_type": "code",
   "execution_count": null,
   "id": "6cb5e1b0",
   "metadata": {},
   "outputs": [],
   "source": [
    "def removeAccentMarks(string):\n",
    "    return ''.join(c for c in unicodedata.normalize('NFD', string)\n",
    "                  if unicodedata.category(c) != 'Mn')\n",
    "\n",
    "PROVINCE = removeAccentMarks(PROVINCE).lower()\n",
    "PROV_CAPITAL = removeAccentMarks(PROVINCE).lower()"
   ]
  },
  {
   "cell_type": "markdown",
   "id": "15ec30a3",
   "metadata": {},
   "source": [
    "#### Parsing the ATOM feed\n",
    "See http://www.catastro.minhap.es/webinspire/index.html"
   ]
  },
  {
   "cell_type": "code",
   "execution_count": null,
   "id": "01930f69",
   "metadata": {},
   "outputs": [],
   "source": [
    "feed = feedparser.parse(CADASTRAL_DATA_FEED)"
   ]
  },
  {
   "cell_type": "markdown",
   "id": "b92284dc",
   "metadata": {},
   "source": [
    "#### Print provinces and link"
   ]
  },
  {
   "cell_type": "code",
   "execution_count": null,
   "id": "9e985cfe",
   "metadata": {
    "scrolled": true
   },
   "outputs": [],
   "source": [
    "entries = feed.entries\n",
    "discard = [(lambda e: print(e.title, e.link))(e) for e in feed.entries]"
   ]
  },
  {
   "cell_type": "markdown",
   "id": "403aaf9a",
   "metadata": {},
   "source": [
    "#### Parsing the provincial ATOM feed"
   ]
  },
  {
   "cell_type": "markdown",
   "id": "a363df13",
   "metadata": {},
   "source": [
    "Checking the parsing method output (assumming the provincial capitals' postal codes all end with '900'"
   ]
  },
  {
   "cell_type": "code",
   "execution_count": null,
   "id": "2547ebde",
   "metadata": {},
   "outputs": [],
   "source": [
    "\n",
    "selected_province_feed = \\\n",
    "    [(lambda e: feedparser.parse(e.link)) (e) for e in entries if PROVINCE in removeAccentMarks(e.title).lower()][0][\"entries\"]\n",
    "\n",
    "capital_feed = \\\n",
    "    [(lambda e: {\"title\": e[\"title\"], \"zipped_gml\": e[\"link\"]})\n",
    "                 (e) for e in selected_province_feed if f\"900-{PROV_CAPITAL.upper()} \" in e[\"title\"].upper()][0]\n",
    "capital_feed"
   ]
  },
  {
   "cell_type": "markdown",
   "id": "f237ab9e",
   "metadata": {},
   "source": [
    "#### Creating a local directory to save the zipped GML file"
   ]
  },
  {
   "cell_type": "code",
   "execution_count": null,
   "id": "6b2cbdba",
   "metadata": {},
   "outputs": [],
   "source": [
    "target_data_dir = os.path.join(os.getcwd(),\"Downloaded_Data\", f\"{PROV_CAPITAL.lower()}\")\n",
    "if not os.path.exists(target_data_dir):\n",
    "    os.makedirs(target_data_dir)\n",
    "zipped_data = os.path.join(target_data_dir, f\"{PROV_CAPITAL.lower()}.zip\")"
   ]
  },
  {
   "cell_type": "markdown",
   "id": "3bb2b44a",
   "metadata": {},
   "source": [
    "#### Downloading the zipped GML file"
   ]
  },
  {
   "cell_type": "code",
   "execution_count": null,
   "id": "127f6617",
   "metadata": {},
   "outputs": [],
   "source": [
    "url = capital_feed[\"zipped_gml\"]\n",
    "r = requests.get(url)\n",
    "\n",
    "with open (zipped_data, 'wb') as f:\n",
    "    f.write(r.content)"
   ]
  },
  {
   "cell_type": "markdown",
   "id": "495bcbf4",
   "metadata": {},
   "source": [
    "#### Creating a GeoDataFrame from the appropriate .gml file"
   ]
  },
  {
   "cell_type": "code",
   "execution_count": null,
   "id": "06d091db",
   "metadata": {},
   "outputs": [],
   "source": [
    "gml_file = [f for f in ZipFile(zipped_data).namelist() if \"building.gml\" in f][0]\n",
    "gdf = geopandas.read_file(f\"{zipped_data}!/{gml_file}\")"
   ]
  },
  {
   "cell_type": "markdown",
   "id": "f87aa6aa",
   "metadata": {},
   "source": [
    "#### Getting the center of the city from the geopandas repository"
   ]
  },
  {
   "cell_type": "code",
   "execution_count": null,
   "id": "ef1f5825",
   "metadata": {},
   "outputs": [],
   "source": [
    "# CS of the geocoding response = EPSG:4326\n",
    "center_city_geocoding_response = geopandas.tools.geocode(PROV_CAPITAL)[\"geometry\"]\n",
    "# Reproject to Web Mercator\n",
    "center_city_web_mercator = center_city_geocoding_response.to_crs(\"EPSG:3857\")\n",
    "center_city_web_mercator"
   ]
  },
  {
   "cell_type": "markdown",
   "id": "3c9189f6",
   "metadata": {},
   "source": [
    "#### Creating the buffer around the city center"
   ]
  },
  {
   "cell_type": "code",
   "execution_count": null,
   "id": "99ec6a8d",
   "metadata": {},
   "outputs": [],
   "source": [
    "# Buffer around the center of the city\n",
    "city_buffer = geopandas.GeoDataFrame({'geometry': center_city_web_mercator.buffer(BUFFER_DIST, resolution=16)})"
   ]
  },
  {
   "cell_type": "code",
   "execution_count": null,
   "id": "96f366e9",
   "metadata": {},
   "outputs": [],
   "source": [
    "#### Plotting the intersection of the city buildings with the buffer, with a basemap."
   ]
  },
  {
   "cell_type": "code",
   "execution_count": null,
   "id": "f0658afa",
   "metadata": {},
   "outputs": [],
   "source": [
    "intersection = geopandas.overlay(gdf.to_crs(epsg=3857), city_buffer, how='intersection')\n",
    "ax = intersection.plot(column=\"beginning\", legend=False, figsize=(100,100), alpha=1, cmap=\"Spectral\")\n",
    "ax.set_axis_off()\n",
    "ctx.add_basemap(ax, url=ctx.providers.CartoDB.DarkMatter)"
   ]
  },
  {
   "cell_type": "code",
   "execution_count": null,
   "id": "014465cc",
   "metadata": {},
   "outputs": [],
   "source": []
  }
 ],
 "metadata": {
  "kernelspec": {
   "display_name": "Python 3",
   "language": "python",
   "name": "python3"
  },
  "language_info": {
   "codemirror_mode": {
    "name": "ipython",
    "version": 3
   },
   "file_extension": ".py",
   "mimetype": "text/x-python",
   "name": "python",
   "nbconvert_exporter": "python",
   "pygments_lexer": "ipython3",
   "version": "3.6.13"
  }
 },
 "nbformat": 4,
 "nbformat_minor": 5
}
